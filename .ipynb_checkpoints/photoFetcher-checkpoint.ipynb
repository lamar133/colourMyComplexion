{
 "cells": [
  {
   "cell_type": "markdown",
   "metadata": {},
   "source": [
    "# Photo Fetcher (Web scrape)"
   ]
  },
  {
   "cell_type": "code",
   "execution_count": 1,
   "metadata": {
    "collapsed": true
   },
   "outputs": [
    {
     "name": "stdout",
     "output_type": "stream",
     "text": [
      "starting: 0\n",
      "https://www.yelp.ca/search?find_loc=Toronto,+ON,+Canada&start=0&cflt=restaurants\n",
      "0: is done\n",
      "['https://www.yelp.ca/biz_photos/under-the-table-restaurant-toronto?tab=interior', 'https://www.yelp.ca/biz_photos/riddle-room-toronto?tab=interior', 'https://www.yelp.ca/biz_photos/corrados-toronto?tab=interior', 'https://www.yelp.ca/biz_photos/seven-lives-tacos-y-mariscos-toronto?tab=interior', 'https://www.yelp.ca/biz_photos/kaiju-toronto?tab=interior', 'https://www.yelp.ca/biz_photos/the-harbord-room-toronto?tab=interior', 'https://www.yelp.ca/biz_photos/byblos-toronto-2?tab=interior', 'https://www.yelp.ca/biz_photos/black-camel-toronto-2?tab=interior', 'https://www.yelp.ca/biz_photos/richmond-station-toronto?tab=interior', 'https://www.yelp.ca/biz_photos/pearl-diver-toronto-2?tab=interior']\n"
     ]
    }
   ],
   "source": [
    "#Collect a list of Yelp links to all restaurants in Toronto\n",
    "import re, os, urllib\n",
    "from bs4 import BeautifulSoup as soup\n",
    "import pandas as pd\n",
    "from urllib import request\n",
    "import numpy as np\n",
    "\n",
    "links = []\n",
    "rawData = {'photos': [], 'restaurant_name': []}\n",
    "\n",
    "def collectLinks():\n",
    "    for page in range(0, 10, 10):\n",
    "        print('starting: ' + str(page))\n",
    "        mainUrl = 'https://www.yelp.ca/search?find_loc=Toronto,+ON,+Canada&start=' + str(page) + '&cflt=restaurants'\n",
    "        print(mainUrl)\n",
    "        main_html = request.urlopen(mainUrl).read().decode('utf8')\n",
    "        soups = soup(main_html, 'lxml')\n",
    "\n",
    "        count = 0\n",
    "\n",
    "        body = soups.find(class_='search-results-content')\n",
    "\n",
    "        for restaurant in body.find_all('li'):\n",
    "\n",
    "            for name in restaurant.find_all(class_='biz-name js-analytics-click'):\n",
    "                href = name['href']\n",
    "\n",
    "                count += 1\n",
    "\n",
    "                try:\n",
    "                    fullLink = href[:4]  + '_photos' + href[4:] + '?tab=interior'\n",
    "                    fullLink = 'https://www.yelp.ca' + fullLink\n",
    "                    if count != 1:\n",
    "                        links.append(fullLink)\n",
    "                        rawData['restaurant_name'].append(href[5:])\n",
    "\n",
    "                except TypeError:\n",
    "                    pass\n",
    "        print(str(page) + ': is done')\n",
    "        mainUrl = None\n",
    "        main_html = None\n",
    "        soups = None\n",
    "        body = None\n",
    "\n",
    "    print(links)\n",
    "    return links"
   ]
  },
  {
   "cell_type": "code",
   "execution_count": 3,
   "metadata": {
    "collapsed": false
   },
   "outputs": [],
   "source": [
    "def collectPhotos():\n",
    "    for link in links:\n",
    "        photos = []\n",
    "        photosPath = './photos' \n",
    "        os.makedirs(photosPath)\n",
    "        os.chdir('./photos')\n",
    "        photoPath = '.' + link[30:-13]\n",
    "        os.makedirs(photoPath)\n",
    "        os.chdir('.' + link[30:-13])\n",
    "\n",
    "        mainUrl = link\n",
    "        main_html = request.urlopen(mainUrl).read().decode('utf8')\n",
    "        soups = soup(main_html, 'lxml')\n",
    "\n",
    "        content = soups.find(class_='container')\n",
    "        count = 0\n",
    "        for photo in content.find_all('li'):\n",
    "            for jpg in photo.find_all(class_='photo-box-img'):\n",
    "                src = jpg['src']\n",
    "                src = 'http:' + src\n",
    "                count += 1\n",
    "\n",
    "                filename = '.' + link[30:-13] + str(count) + '.jpg'\n",
    "                photoName = link[31:-13] + str(count) + '.jpg'\n",
    "                try:\n",
    "                    file = urllib.request.urlretrieve(src, filename)\n",
    "                    photos.append(photoName)\n",
    "\n",
    "                except TypeError:\n",
    "                    pass\n",
    "\n",
    "        rawData['photos'].append(photos)\n",
    "        os.chdir('..')\n",
    "\n",
    "    df = pd.DataFrame(rawData, columns = ['photos', 'restaurant_name', 'wall_colour'])"
   ]
  },
  {
   "cell_type": "code",
   "execution_count": null,
   "metadata": {
    "collapsed": true
   },
   "outputs": [],
   "source": []
  }
 ],
 "metadata": {
  "kernelspec": {
   "display_name": "Python 3",
   "language": "python",
   "name": "python3"
  },
  "language_info": {
   "codemirror_mode": {
    "name": "ipython",
    "version": 3
   },
   "file_extension": ".py",
   "mimetype": "text/x-python",
   "name": "python",
   "nbconvert_exporter": "python",
   "pygments_lexer": "ipython3",
   "version": "3.5.2"
  }
 },
 "nbformat": 4,
 "nbformat_minor": 0
}
